{
  "nbformat": 4,
  "nbformat_minor": 0,
  "metadata": {
    "colab": {
      "provenance": [],
      "authorship_tag": "ABX9TyPT0pwkHjUfB5iLRgA2DMa9",
      "include_colab_link": true
    },
    "kernelspec": {
      "name": "python3",
      "display_name": "Python 3"
    },
    "language_info": {
      "name": "python"
    }
  },
  "cells": [
    {
      "cell_type": "markdown",
      "metadata": {
        "id": "view-in-github",
        "colab_type": "text"
      },
      "source": [
        "<a href=\"https://colab.research.google.com/github/Chinni-Akanksha01/NLP/blob/main/15_03.ipynb\" target=\"_parent\"><img src=\"https://colab.research.google.com/assets/colab-badge.svg\" alt=\"Open In Colab\"/></a>"
      ]
    },
    {
      "cell_type": "code",
      "execution_count": 5,
      "metadata": {
        "id": "8Tisf5LR_uHY"
      },
      "outputs": [],
      "source": [
        "import google.generativeai as genai\n",
        "from google.colab import userdata\n",
        "GOOGLE_API_KEY=userdata.get('GOOGLE_API_KEY')\n",
        "genai.configure(api_key=GOOGLE_API_KEY)"
      ]
    },
    {
      "cell_type": "code",
      "source": [
        "!pip install PyPDF2"
      ],
      "metadata": {
        "colab": {
          "base_uri": "https://localhost:8080/"
        },
        "id": "3cOQYWJe_xF6",
        "outputId": "e54eafa6-d18f-4c35-93ba-b5f2e2892f6a"
      },
      "execution_count": 2,
      "outputs": [
        {
          "output_type": "stream",
          "name": "stdout",
          "text": [
            "Collecting PyPDF2\n",
            "  Downloading pypdf2-3.0.1-py3-none-any.whl.metadata (6.8 kB)\n",
            "Downloading pypdf2-3.0.1-py3-none-any.whl (232 kB)\n",
            "\u001b[?25l   \u001b[90m━━━━━━━━━━━━━━━━━━━━━━━━━━━━━━━━━━━━━━━━\u001b[0m \u001b[32m0.0/232.6 kB\u001b[0m \u001b[31m?\u001b[0m eta \u001b[36m-:--:--\u001b[0m\r\u001b[2K   \u001b[91m━━━━━━━━━━━━━━━━━━━━━━━━━━━━━━━━━━━━━━\u001b[0m\u001b[91m╸\u001b[0m\u001b[90m━\u001b[0m \u001b[32m225.3/232.6 kB\u001b[0m \u001b[31m6.6 MB/s\u001b[0m eta \u001b[36m0:00:01\u001b[0m\r\u001b[2K   \u001b[90m━━━━━━━━━━━━━━━━━━━━━━━━━━━━━━━━━━━━━━━━\u001b[0m \u001b[32m232.6/232.6 kB\u001b[0m \u001b[31m4.4 MB/s\u001b[0m eta \u001b[36m0:00:00\u001b[0m\n",
            "\u001b[?25hInstalling collected packages: PyPDF2\n",
            "Successfully installed PyPDF2-3.0.1\n"
          ]
        }
      ]
    },
    {
      "cell_type": "code",
      "source": [
        "import PyPDF2\n",
        "def extract_text_from_pdf(pdf_path):\n",
        "    text = \"\"\n",
        "    with open(pdf_path,\"rb\") as file:\n",
        "      reader=PyPDF2.PdfReader(file)\n",
        "      for page in reader.pages:\n",
        "        text+=page.extract_text()+\"\\n\"\n",
        "    return text\n",
        "\n"
      ],
      "metadata": {
        "id": "0xyv-ZPZ_4Mo"
      },
      "execution_count": 6,
      "outputs": []
    },
    {
      "cell_type": "code",
      "source": [
        "def extract_health_insights(text):\n",
        "  model=genai.GenerativeModel(\"gemini-1.5-flash\")\n",
        "  prompt=f\"Extract key insights from the following health report:\\n\\n{text}\"\n",
        "  response=model.generate_content(prompt)\n",
        "  return response.text\n",
        "pdf_file=\"health_report.pdf\"\n",
        "extracted_text=extract_text_from_pdf(pdf_file)\n",
        "insights=extract_health_insights(extracted_text)\n",
        "print(\"Key Insights:\\n\",insights)"
      ],
      "metadata": {
        "colab": {
          "base_uri": "https://localhost:8080/",
          "height": 488
        },
        "id": "QW04UVnbB2Ji",
        "outputId": "dd178d0e-8b09-4e33-cdcb-1204a71a8392"
      },
      "execution_count": 9,
      "outputs": [
        {
          "output_type": "stream",
          "name": "stdout",
          "text": [
            "Key Insights:\n",
            " The health report for Mr. Kishan Goud (MR2100003157) reveals the following key insights from tests conducted on 01/02/2021:\n",
            "\n",
            "**Infectious Disease Screen:**\n",
            "\n",
            "* **Negative for Dengue:**  NS1 antigen, IgG, and IgM tests were all negative.\n",
            "* **Negative for Malaria:** Rapid Malaria tests for Plasmodium vivax (P.V.) and Plasmodium falciparum (P.F.) were both negative.\n",
            "* **Widal Test Suggestive of Past Exposure (Possibly):**  While the Widal test showed elevated titers for *Salmonella Typhi* \"O\" (1:160) and \"H\" (1:80),  interpreting this requires clinical correlation.  Elevated titers can indicate past infection or exposure, not necessarily an active infection. The reference range is 1:20, so the values are significantly higher, warranting further investigation based on clinical presentation. *Salmonella Paratyphi* \"AH\" and \"BH\" titers were within the normal range.\n",
            "\n",
            "**Hematology:**\n",
            "\n",
            "* **Elevated ESR:** Erythrocyte Sedimentation Rate (ESR) was elevated (26 mm/hr in the first hour, 52 mm/hr in the second hour), suggesting possible inflammation.  This needs to be considered alongside other findings.\n",
            "* **Complete Blood Picture (CBC) Mostly Normal:** Hemoglobin, RBC, WBC, Platelets, and PCV were within or close to the normal ranges. Differential count also showed normal ranges for neutrophils, lymphocytes, eosinophils, monocytes, and basophils.  The peripheral blood smear showed normal RBC morphology and adequate platelets.\n",
            "\n",
            "**Blood Chemistry:**\n",
            "\n",
            "* **Normal Blood Glucose and HbA1c:** Random blood glucose was within the normal range. HbA1c was 5.4%, indicating good glycemic control.\n",
            "* **Normal Liver Function Tests (LFTs):**  All liver function tests (bilirubin, alkaline phosphatase, SGOT, SGPT, total protein, albumin, globulin, and A/G ratio) were within normal ranges.\n",
            "* **Slightly Low Serum Sodium:** Serum sodium was slightly below the lower limit of the normal range (122 mmol/l).  Potassium and chloride were within normal ranges.\n",
            "* **Serum Creatinine Normal:** Serum creatinine was within the normal range (0.8 mg/dl).\n",
            "\n",
            "\n",
            "**Overall:**\n",
            "\n",
            "The report shows mostly normal results.  The elevated ESR and elevated *Salmonella Typhi* antibody titers are the most notable findings.  The significance of these findings needs to be evaluated by the treating physician (Dr. Krishna Prasad) in the context of Mr. Kishan Goud's clinical presentation and medical history. Further investigation may be warranted based on clinical suspicion.  The slightly low sodium level also warrants attention and possible further investigation.\n",
            "\n"
          ]
        }
      ]
    },
    {
      "cell_type": "code",
      "source": [
        "def summarize_health_report(text):\n",
        "  model = genai. GenerativeModel(\"gemini-1.5-flash\")\n",
        "  prompt = f\"Summarize the following health report in a concise manner:\\n\\n{text}\"\n",
        "  response = model.generate_content(prompt)\n",
        "  return response.text\n",
        "\n",
        "summary = summarize_health_report(extracted_text)\n",
        "print(\"Summary:\\n\", summary)"
      ],
      "metadata": {
        "colab": {
          "base_uri": "https://localhost:8080/",
          "height": 89
        },
        "id": "xv5h4pfHCare",
        "outputId": "b521060e-6163-4269-d8f6-1095d6721125"
      },
      "execution_count": 10,
      "outputs": [
        {
          "output_type": "stream",
          "name": "stdout",
          "text": [
            "Summary:\n",
            " Mr. Kishan Goud's (MRN: MR2100003157) blood tests on 01/02/2021 showed:  Elevated ESR (26/52 mm/hr),  Widal test positive for *S. Typhi* \"O\" (1:160) and \"H\" (1:80), but negative for paratyphi.  Dengue serology (NS1, IgG, IgM) and Malaria rapid tests were negative.  Complete blood count, liver function tests, and HbA1c (5.4%) were within normal limits except for slightly low serum sodium (122 mmol/l).  All results were reviewed by Arif.\n",
            "\n"
          ]
        }
      ]
    },
    {
      "cell_type": "code",
      "source": [
        "def detect_abnormalities(text):\n",
        "  model = genai. GenerativeModel(\"gemini-1.5-flash\")\n",
        "  prompt = f\"Analyze the lab tezt results in the following health report and highlight any abnormal values:\\n\\n{text}\"\n",
        "  response = model.generate_content(prompt)\n",
        "  return response.text\n",
        "\n",
        "abnormalities= detect_abnormalities(extracted_text)\n",
        "print(\"Summary:\\n\",abnormalities )"
      ],
      "metadata": {
        "colab": {
          "base_uri": "https://localhost:8080/",
          "height": 280
        },
        "id": "Z8Ic33hZGl0L",
        "outputId": "fa0c6d7b-93cc-4197-e66b-1c7a7153e6e9"
      },
      "execution_count": 12,
      "outputs": [
        {
          "output_type": "stream",
          "name": "stdout",
          "text": [
            "Summary:\n",
            " Based on the provided lab results, the following values fall outside the reference ranges, indicating potential abnormalities:\n",
            "\n",
            "* **Widal Test:**  S. Typhi \"O\" (1:160) and S. Typhi \"H\" (1:80) are significantly higher than the reference range (1:20). This suggests a possible past or present infection with *Salmonella Typhi*,  the bacteria that causes typhoid fever.  Further investigation is warranted to confirm.\n",
            "\n",
            "* **Erythrocyte Sedimentation Rate (ESR):**  Both the 1st hour (26 mm/hr) and 2nd hour (52 mm/hr) ESR values are considerably elevated above the reference range (0-8 mm/hr for the 1st hour). This indicates inflammation in the body.  The cause needs further investigation.\n",
            "\n",
            "* **Serum Sodium:** The serum sodium level (122 mmol/l) is below the reference range (135-146 mmol/l).  This is considered hyponatremia (low sodium) and can have various underlying causes, requiring further evaluation.\n",
            "\n",
            "* **Serum Chloride:** The serum chloride level (97 mmol/l) is slightly below the lower limit of the reference range (98-107 mmol/l). While not drastically outside the range, it warrants attention, especially in conjunction with the hyponatremia.\n",
            "\n",
            "\n",
            "**All other values fall within their respective reference ranges.**  However, the significant abnormalities mentioned above require further medical evaluation and investigation to determine their causes and appropriate treatment.  The patient should consult with their physician to discuss these results and plan further diagnostic steps.\n",
            "\n"
          ]
        }
      ]
    },
    {
      "cell_type": "code",
      "source": [
        "def explain_medical_terms(text):\n",
        "  model = genai. GenerativeModel(\"gemini-1.5-flash\")\n",
        "  prompt = f\"Explain Medical terms in the following health report in simple language:\\n\\n{text}\"\n",
        "  response = model.generate_content(prompt)\n",
        "  return response.text\n",
        "\n",
        "explanation= explain_medical_terms(extracted_text)\n",
        "print(\"Simplified explanation:\\n\",explanation)"
      ],
      "metadata": {
        "colab": {
          "base_uri": "https://localhost:8080/",
          "height": 1000
        },
        "id": "TFQ2evuRIX5v",
        "outputId": "a2d7d641-e7a5-4a03-a359-e5884dd2231f"
      },
      "execution_count": 14,
      "outputs": [
        {
          "output_type": "stream",
          "name": "stdout",
          "text": [
            "Simplified explanation:\n",
            " This report shows the results of several blood tests performed on Mr. Kishan Goud. Let's break down each section in simple terms:\n",
            "\n",
            "**1. WIDAL TEST:** This test checks for antibodies against *Salmonella typhi* and *Salmonella paratyphi*, bacteria that cause typhoid fever and paratyphoid fever.  The numbers (e.g., 1:160) represent the dilution of the blood sample at which antibodies were still detected.  A higher number generally suggests a higher level of antibodies, potentially indicating a past or current infection.  In this case:\n",
            "\n",
            "* **S. Typhi \"O\" 1:160:**  Suggests a possible past exposure to typhoid fever.  The \"O\" refers to a specific part of the bacteria.\n",
            "* **S. Typhi \"H\" 1:80:**  Also suggests possible past exposure to typhoid fever. The \"H\" refers to a different part of the bacteria.\n",
            "* **S. Paratyphi \"A\" 1:20:** Within the normal range, indicating no significant exposure to paratyphoid A.\n",
            "* **S. Paratyphi \"B\" 1:20:** Within the normal range, indicating no significant exposure to paratyphoid B.\n",
            "\n",
            "**2. DENGUE SEROLOGY:** This tests for dengue fever, a viral infection spread by mosquitoes.  The results are all negative, meaning no evidence of a current or recent dengue infection.\n",
            "\n",
            "* **NS1 Antigen:** A protein found in the dengue virus.\n",
            "* **IgG:**  Antibodies indicating past exposure to dengue.\n",
            "* **IgM:** Antibodies that suggest a recent infection.\n",
            "\n",
            "**3. ERYTHROCYTE SEDIMENTATION RATE (ESR):** This measures how quickly red blood cells settle in a test tube.  A higher ESR can indicate inflammation or infection in the body. Mr. Goud's ESR is elevated (26 mm/hr in the first hour, 52 mm/hr in the second), suggesting the presence of inflammation.\n",
            "\n",
            "**4. RAPID MALARIA TEST:** This quickly tests for malaria parasites in the blood.  Both tests (for *Plasmodium vivax* (P.V) and *Plasmodium falciparum* (P.F)) are negative, ruling out malaria.\n",
            "\n",
            "**5. COMPLETE BLOOD PICTURE (CBC):** This is a comprehensive blood test that provides information about various blood components:\n",
            "\n",
            "* **Hemoglobin (Hb):** 13.6 gm% (within normal range) –  measures the oxygen-carrying capacity of red blood cells.\n",
            "* **Red Blood Cells (RBC):** 4.3 million/cumm (slightly low, but within acceptable range) –  the number of red blood cells.\n",
            "* **White Blood Cells (WBC):** 7,200 cells/cumm (within normal range) –  the number of white blood cells (part of the immune system).\n",
            "* **Platelets:** 2.0 lakhs/cumm (within normal range) –  cells that help with blood clotting.\n",
            "* **Packed Cell Volume (PCV):** 40.5% (within normal range) –  the percentage of red blood cells in the blood.\n",
            "* **Differential Count:**  This breaks down the types of white blood cells; all are within normal limits.\n",
            "* **Peripheral Blood Smear:** A microscopic examination of the blood cells; the report shows normal findings for red blood cells, white blood cells, and platelets.\n",
            "\n",
            "**6. HbA1c:** This test measures average blood sugar levels over the past 2-3 months.  Mr. Goud's level (5.4%) is within the normal range for someone who is not diabetic.\n",
            "\n",
            "**7. SERUM CREATININE:** This measures creatinine, a waste product from muscle breakdown, indicating kidney function.  Mr. Goud's level (0.8 mg/dl) is within the normal range.\n",
            "\n",
            "**8. RANDOM BLOOD GLUCOSE:** This measures blood sugar at a random time. Mr. Goud's level is within the normal range.\n",
            "\n",
            "**9. LIVER FUNCTION TEST (LFT):**  These tests assess liver health:\n",
            "\n",
            "* **Total Bilirubin:** 0.6 mg/dl (within normal range) – a breakdown product of hemoglobin.\n",
            "* **Direct Bilirubin:** 0.2 mg/dl (within normal range) –  a type of bilirubin.\n",
            "* **Indirect Bilirubin:** 0.4 mg/dl (cannot be assessed for normalcy without more info.) – another type of bilirubin.\n",
            "* **Alkaline Phosphatase:** 71 IU/L (within normal range) – an enzyme found in the liver and bones.\n",
            "* **SGOT (AST):** 24 u/L (within normal range) – an enzyme found in the liver and other tissues.\n",
            "* **SGPT (ALT):** 20 u/L (within normal range) –  an enzyme found primarily in the liver.\n",
            "* **Total Protein:** 7.3 gm/dl (within normal range) – total protein in the blood.\n",
            "* **Albumin:** 4.0 gm/dl (within normal range) – a type of protein made by the liver.\n",
            "* **Globulin:** 3.3 gm/dl (cannot be assessed for normalcy without more info) – another type of protein.\n",
            "* **A/G Ratio:** 1.2 (within normal range) – the ratio of albumin to globulin.\n",
            "\n",
            "**10. SERUM ELECTROLYTES:** These tests measure the levels of electrolytes in the blood, which are essential for various bodily functions.\n",
            "\n",
            "* **Sodium:** 122 mmol/l (slightly low).\n",
            "* **Potassium:** 3.5 mmol/l (at the lower end of normal range).\n",
            "* **Chloride:** 97 mmol/l (slightly low).\n",
            "\n",
            "**Important Note:** I am an AI and cannot give medical advice.  The interpretation above is for informational purposes only.  Mr. Goud should discuss these results with his doctor, Dr. Krishna Prasad, who can provide a proper diagnosis and treatment plan based on the complete clinical picture.  The slightly low sodium, potassium, and chloride levels, along with the elevated ESR, warrant further investigation.\n",
            "\n"
          ]
        }
      ]
    },
    {
      "cell_type": "code",
      "source": [
        "def ask_gemini_about_report(text,question):\n",
        "  model = genai. GenerativeModel(\"gemini-1.5-flash\")\n",
        "  prompt = f\"the following is a health report:\\n\\n{text}\\n\\nAnswer the following question based on the report:\\n{question}\"\n",
        "  response = model.generate_content(prompt)\n",
        "  return response.text\n",
        "question=\"what is the patient's diagnosis?\"\n",
        "answer=ask_gemini_about_report(extracted_text,question)\n",
        "print(\"Answer:\\n\",answer)"
      ],
      "metadata": {
        "colab": {
          "base_uri": "https://localhost:8080/",
          "height": 89
        },
        "id": "vZuebSJtJrL7",
        "outputId": "811465c2-a935-402b-faad-2fd3cab15884"
      },
      "execution_count": 16,
      "outputs": [
        {
          "output_type": "stream",
          "name": "stdout",
          "text": [
            "Answer:\n",
            " The provided lab report does not offer a diagnosis.  It only presents test results.  Several values are slightly outside the reference ranges (ESR, serum sodium), but this alone is insufficient to determine a diagnosis.  A physician must interpret these results in the context of the patient's symptoms, medical history, and a physical examination to arrive at a diagnosis.\n",
            "\n"
          ]
        }
      ]
    },
    {
      "cell_type": "code",
      "source": [],
      "metadata": {
        "id": "3eg6h0GTLBfB"
      },
      "execution_count": null,
      "outputs": []
    }
  ]
}