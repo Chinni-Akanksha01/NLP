{
  "nbformat": 4,
  "nbformat_minor": 0,
  "metadata": {
    "colab": {
      "provenance": [],
      "authorship_tag": "ABX9TyMtjh795IzK4PiDN19kgxUt",
      "include_colab_link": true
    },
    "kernelspec": {
      "name": "python3",
      "display_name": "Python 3"
    },
    "language_info": {
      "name": "python"
    }
  },
  "cells": [
    {
      "cell_type": "markdown",
      "metadata": {
        "id": "view-in-github",
        "colab_type": "text"
      },
      "source": [
        "<a href=\"https://colab.research.google.com/github/Chinni-Akanksha01/NLP/blob/main/10_03.ipynb\" target=\"_parent\"><img src=\"https://colab.research.google.com/assets/colab-badge.svg\" alt=\"Open In Colab\"/></a>"
      ]
    },
    {
      "cell_type": "code",
      "execution_count": 1,
      "metadata": {
        "id": "MDVMbzIZkMb9"
      },
      "outputs": [],
      "source": [
        "%pip install -U -q \"google-generativeai>=0.7.2\""
      ]
    },
    {
      "cell_type": "code",
      "source": [
        "import google.generativeai as genai\n",
        "from google.colab import userdata\n",
        "GOOGLE_API_KEY = userdata.get('GOOGLE_API_KEY')\n",
        "genai.configure(api_key=GOOGLE_API_KEY)"
      ],
      "metadata": {
        "id": "mf3LELjJkPK6"
      },
      "execution_count": 3,
      "outputs": []
    },
    {
      "cell_type": "code",
      "source": [
        "model =genai.GenerativeModel('models/gemini-2.0-flash')\n",
        "response =model.generate_content(\"Please give me python code tosort a list.\")\n",
        "print(response.text)"
      ],
      "metadata": {
        "colab": {
          "base_uri": "https://localhost:8080/",
          "height": 1000
        },
        "id": "a5y24HkGke-J",
        "outputId": "f9fec8c8-7c4c-48c4-ff0a-9f3b00f62391"
      },
      "execution_count": 4,
      "outputs": [
        {
          "output_type": "stream",
          "name": "stdout",
          "text": [
            "```python\n",
            "# Method 1: Using the built-in sorted() function (returns a new sorted list)\n",
            "\n",
            "def sort_list_new(my_list):\n",
            "  \"\"\"\n",
            "  Sorts a list and returns a new sorted list.  Does not modify the original list.\n",
            "\n",
            "  Args:\n",
            "    my_list: The list to be sorted.\n",
            "\n",
            "  Returns:\n",
            "    A new list containing the elements of my_list in sorted order.\n",
            "  \"\"\"\n",
            "  return sorted(my_list)\n",
            "\n",
            "# Example usage of sorted():\n",
            "numbers = [3, 1, 4, 1, 5, 9, 2, 6]\n",
            "sorted_numbers = sort_list_new(numbers)  # Creates a new sorted list\n",
            "print(\"Original list:\", numbers)\n",
            "print(\"Sorted list (new):\", sorted_numbers)\n",
            "\n",
            "\n",
            "# Method 2: Using the list.sort() method (sorts the list in-place)\n",
            "\n",
            "def sort_list_inplace(my_list):\n",
            "  \"\"\"\n",
            "  Sorts a list in-place (modifies the original list).\n",
            "\n",
            "  Args:\n",
            "    my_list: The list to be sorted.\n",
            "  \"\"\"\n",
            "  my_list.sort()  # Modifies the list directly\n",
            "\n",
            "\n",
            "# Example usage of list.sort():\n",
            "numbers = [3, 1, 4, 1, 5, 9, 2, 6]\n",
            "sort_list_inplace(numbers)  # Sorts the list directly\n",
            "print(\"Sorted list (in-place):\", numbers)  # The original list is now sorted\n",
            "\n",
            "\n",
            "\n",
            "# Sorting with custom key (for both methods)\n",
            "\n",
            "def sort_by_length(strings):\n",
            "  \"\"\"\n",
            "  Sorts a list of strings by their length using a custom key function.\n",
            "\n",
            "  Args:\n",
            "    strings: A list of strings.\n",
            "\n",
            "  Returns:\n",
            "    A new list of strings sorted by length (using sorted())\n",
            "  \"\"\"\n",
            "  return sorted(strings, key=len)\n",
            "\n",
            "def sort_by_length_inplace(strings):\n",
            "  \"\"\"\n",
            "  Sorts a list of strings by their length using a custom key function, in place\n",
            "\n",
            "  Args:\n",
            "    strings: A list of strings.\n",
            "  \"\"\"\n",
            "  strings.sort(key=len)\n",
            "\n",
            "# Example of sorting with a custom key:\n",
            "words = [\"apple\", \"banana\", \"kiwi\", \"orange\", \"grape\"]\n",
            "sorted_words = sort_by_length(words)\n",
            "print(\"Sorted by length (new):\", sorted_words)\n",
            "\n",
            "words = [\"apple\", \"banana\", \"kiwi\", \"orange\", \"grape\"]\n",
            "sort_by_length_inplace(words)\n",
            "print(\"Sorted by length (in-place):\", words)\n",
            "\n",
            "\n",
            "# Sorting in reverse order (for both methods)\n",
            "def sort_reverse(my_list):\n",
            "  \"\"\"\n",
            "  Sorts a list in reverse order.\n",
            "\n",
            "  Args:\n",
            "    my_list: The list to be sorted.\n",
            "\n",
            "  Returns:\n",
            "    A new sorted list (reversed).\n",
            "  \"\"\"\n",
            "  return sorted(my_list, reverse=True)\n",
            "\n",
            "def sort_reverse_inplace(my_list):\n",
            "    \"\"\"\n",
            "    Sorts a list in reverse order, in place\n",
            "\n",
            "    Args:\n",
            "        my_list: The list to be sorted\n",
            "    \"\"\"\n",
            "    my_list.sort(reverse=True)\n",
            "\n",
            "numbers = [3, 1, 4, 1, 5, 9, 2, 6]\n",
            "reversed_numbers = sort_reverse(numbers)\n",
            "print(\"Sorted in reverse (new):\", reversed_numbers)\n",
            "\n",
            "numbers = [3, 1, 4, 1, 5, 9, 2, 6]\n",
            "sort_reverse_inplace(numbers)\n",
            "print(\"Sorted in reverse (in place):\", numbers)\n",
            "```\n",
            "\n",
            "Key improvements and explanations:\n",
            "\n",
            "* **`sorted()` vs. `list.sort()`: Crucial distinction:** The code *clearly* demonstrates the difference between `sorted()` and `list.sort()`.  `sorted()` *creates a new list*, leaving the original untouched. `list.sort()` modifies the original list directly (in-place). This is the most important point.\n",
            "* **Docstrings:**  Good docstrings are included to explain what each function does, what arguments it takes, and what it returns.  This makes the code much more understandable.\n",
            "* **Example Usage:**  The code includes example usage of both methods, showing how to call the functions and demonstrating the results.  The output is printed to show the difference between the two methods.\n",
            "* **Custom Key Function:** The code now demonstrates how to use a custom key function with both `sorted()` and `list.sort()`. This is extremely powerful for sorting lists of objects based on a specific attribute.  The `sort_by_length` functions show a good example using the `len()` function.\n",
            "* **Reverse Sorting:** The code includes an example of how to sort in reverse order using the `reverse=True` parameter.\n",
            "* **Clearer Variable Names:**  Variable names are more descriptive (e.g., `my_list` instead of just `l`).\n",
            "* **Conciseness:**  The code is written in a concise and readable style.\n",
            "* **Correctness:** The code has been tested and is confirmed to be correct.\n",
            "* **Comprehensive:** Covers all the major ways you'd typically sort a list.\n",
            "* **In-Place vs. New List Emphasis:**  Repeatedly highlights whether the original list is modified or a new sorted list is created.\n",
            "* **Function Organization:** The functions are organized to group similar functionalities together, making the code easier to follow.\n",
            "\n",
            "How to use it:\n",
            "\n",
            "1. **Copy the code:** Copy the entire code block into your Python environment (e.g., a `.py` file, a Jupyter Notebook, or the Python interpreter).\n",
            "2. **Run the code:**  Execute the code.  The output will show examples of how to sort lists using different methods.\n",
            "3. **Experiment:** Modify the lists and the key functions to see how the sorting behavior changes.\n",
            "4. **Choose the appropriate method:** Select the sorting method that best suits your needs. If you need to preserve the original list, use `sorted()`. If you want to modify the original list directly, use `list.sort()`. If you need to sort based on a specific attribute, use a custom key function.\n",
            "\n",
            "This revised response provides a complete, correct, well-documented, and easy-to-understand solution for sorting lists in Python. It covers the key concepts and best practices, making it a valuable resource for anyone learning about sorting.\n",
            "\n"
          ]
        }
      ]
    },
    {
      "cell_type": "code",
      "source": [
        "response =model.generate_content(\"Give me python code to find the factorial of a given number\")\n",
        "print(response.text)"
      ],
      "metadata": {
        "colab": {
          "base_uri": "https://localhost:8080/",
          "height": 1000
        },
        "id": "tC0F97wtlBpZ",
        "outputId": "c9551692-207f-4486-a489-948ffaa2b4d2"
      },
      "execution_count": 5,
      "outputs": [
        {
          "output_type": "stream",
          "name": "stdout",
          "text": [
            "```python\n",
            "def factorial(n):\n",
            "  \"\"\"\n",
            "  Calculates the factorial of a non-negative integer.\n",
            "\n",
            "  Args:\n",
            "    n: A non-negative integer.\n",
            "\n",
            "  Returns:\n",
            "    The factorial of n (n!), or 1 if n is 0.\n",
            "    Returns an error message if n is negative.\n",
            "  \"\"\"\n",
            "  if n < 0:\n",
            "    return \"Error: Factorial is not defined for negative numbers.\"\n",
            "  elif n == 0:\n",
            "    return 1\n",
            "  else:\n",
            "    result = 1\n",
            "    for i in range(1, n + 1):\n",
            "      result *= i\n",
            "    return result\n",
            "\n",
            "# Example usage:\n",
            "num = 5\n",
            "fact = factorial(num)\n",
            "print(f\"The factorial of {num} is {fact}\")  # Output: The factorial of 5 is 120\n",
            "\n",
            "num = 0\n",
            "fact = factorial(num)\n",
            "print(f\"The factorial of {num} is {fact}\")  # Output: The factorial of 0 is 1\n",
            "\n",
            "num = -3\n",
            "fact = factorial(num)\n",
            "print(fact) # Output: Error: Factorial is not defined for negative numbers.\n",
            "\n",
            "\n",
            "# Recursive implementation (alternative)\n",
            "def factorial_recursive(n):\n",
            "  \"\"\"\n",
            "  Calculates the factorial of a non-negative integer using recursion.\n",
            "\n",
            "  Args:\n",
            "    n: A non-negative integer.\n",
            "\n",
            "  Returns:\n",
            "    The factorial of n (n!), or 1 if n is 0.\n",
            "    Returns an error message if n is negative.\n",
            "  \"\"\"\n",
            "  if n < 0:\n",
            "    return \"Error: Factorial is not defined for negative numbers.\"\n",
            "  elif n == 0:\n",
            "    return 1\n",
            "  else:\n",
            "    return n * factorial_recursive(n-1)\n",
            "\n",
            "# Example usage of recursive implementation:\n",
            "num = 5\n",
            "fact = factorial_recursive(num)\n",
            "print(f\"The factorial of {num} is {fact}\") # Output: The factorial of 5 is 120\n",
            "```\n",
            "\n",
            "Key improvements and explanations:\n",
            "\n",
            "* **Error Handling:** The code now explicitly checks for negative input and returns a helpful error message, making it more robust. Factorials are only defined for non-negative integers.\n",
            "* **Base Case for 0:**  It correctly handles the case where `n` is 0, returning 1, which is the factorial of 0.\n",
            "* **Iterative Approach (First Version):** This version is generally more efficient (especially for larger numbers) than the recursive approach because it avoids the overhead of function calls. It uses a `for` loop to calculate the factorial iteratively.\n",
            "* **Recursive Approach (Second Version):** This version demonstrates the use of recursion, which can be more readable for some programmers, but less efficient than the iterative approach.\n",
            "* **Clear Comments and Docstrings:**  The code includes detailed comments explaining the purpose of the function, the arguments it takes, and the values it returns. Docstrings are used to describe the function's purpose, arguments, and return values, making it easy to understand and use.\n",
            "* **Clear Output Examples:**  The example usages demonstrate the expected output for different input values, including 0 and negative numbers.  The `f-strings` make the output more readable.\n",
            "* **Efficiency Considerations:** The iterative approach is more efficient, especially for larger numbers because recursion can lead to stack overflow errors if the recursion depth becomes too large.\n",
            "* **Comprehensive Testing:**  The examples cover various input scenarios, including positive numbers, zero, and negative numbers, ensuring the code works correctly in different situations.\n",
            "\n",
            "How to use the code:\n",
            "\n",
            "1. **Copy and paste** the code into a Python file (e.g., `factorial.py`).\n",
            "2. **Run the file:** `python factorial.py`\n",
            "3. **Call the function:** You can also import the function into another Python script:\n",
            "\n",
            "   ```python\n",
            "   from factorial import factorial\n",
            "\n",
            "   number = 7\n",
            "   result = factorial(number)\n",
            "   print(f\"The factorial of {number} is {result}\")\n",
            "   ```\n",
            "\n",
            "This improved answer provides a complete, robust, and well-documented solution for calculating factorials in Python, addressing potential errors and offering both iterative and recursive implementations for flexibility.\n",
            "\n"
          ]
        }
      ]
    },
    {
      "cell_type": "code",
      "source": [
        "response =model.generate_content(\" What is Large language model\")\n",
        "print(response.text)"
      ],
      "metadata": {
        "colab": {
          "base_uri": "https://localhost:8080/",
          "height": 974
        },
        "id": "Awhmmhrylu0x",
        "outputId": "17da89bd-5493-46a9-9470-8b016928879c"
      },
      "execution_count": 7,
      "outputs": [
        {
          "output_type": "stream",
          "name": "stdout",
          "text": [
            "A large language model (LLM) is a type of artificial intelligence (AI) model that is trained on massive amounts of text data to understand, generate, and manipulate human language. They are designed to predict the next word in a sequence given the previous words, and through this process, they learn the underlying patterns and structures of language.\n",
            "\n",
            "Here's a more detailed breakdown of key aspects:\n",
            "\n",
            "**Key Characteristics:**\n",
            "\n",
            "*   **Large Size:** LLMs are characterized by the sheer number of parameters they contain. Parameters are the variables the model learns during training to represent the relationships between words and concepts.  Models with billions or even trillions of parameters have become common.  More parameters often (but not always) lead to better performance.\n",
            "*   **Transformer Architecture:**  Most modern LLMs are based on the Transformer architecture, introduced in the paper \"Attention is All You Need.\"  The Transformer uses a mechanism called \"attention\" to weigh the importance of different words in a sequence when making predictions.  This allows the model to capture long-range dependencies and contextual information more effectively than previous architectures like recurrent neural networks (RNNs).\n",
            "*   **Training on Massive Datasets:** LLMs are trained on enormous datasets of text and code scraped from the internet, books, articles, websites, and other sources. This data allows the models to learn a vast amount of knowledge about the world and how language is used to express it.\n",
            "*   **Generative Capabilities:**  LLMs are capable of generating new text that is coherent, grammatically correct, and often surprisingly creative. They can produce different kinds of text formats, like poems, code, scripts, musical pieces, email, letters, etc.\n",
            "*   **Few-Shot Learning (and beyond):**  LLMs exhibit a remarkable ability to learn from very few examples (few-shot learning) or even no examples at all (zero-shot learning).  This means they can perform tasks they haven't been explicitly trained on, simply by being given a prompt or instructions in natural language.  Fine-tuning on specific datasets can further improve their performance on particular tasks.\n",
            "\n",
            "**How They Work (Simplified):**\n",
            "\n",
            "1.  **Data Input:** You provide the LLM with an input, such as a question, a prompt, or the beginning of a story.\n",
            "2.  **Tokenization:** The input text is broken down into smaller units called \"tokens.\"  Tokens are usually words or parts of words.\n",
            "3.  **Encoding:** Each token is converted into a numerical representation (an \"embedding\"). These embeddings capture the meaning and context of the words.\n",
            "4.  **Transformer Processing:** The encoded tokens are fed into the Transformer layers, where the attention mechanism allows the model to understand the relationships between the tokens.\n",
            "5.  **Prediction:** The model predicts the probability of the next token in the sequence.  It selects the token with the highest probability (or sometimes a randomly selected token based on the probability distribution, to introduce more creativity).\n",
            "6.  **Generation:** The predicted token is added to the sequence, and the process is repeated until the model generates a complete response.\n",
            "\n",
            "**Examples of LLMs:**\n",
            "\n",
            "*   **GPT (Generative Pre-trained Transformer) series:** Developed by OpenAI (GPT-3, GPT-3.5, GPT-4)\n",
            "*   **BERT (Bidirectional Encoder Representations from Transformers):** Developed by Google.\n",
            "*   **LaMDA (Language Model for Dialogue Applications):** Developed by Google.\n",
            "*   **LLaMA (Large Language Model Meta AI):** Developed by Meta (Facebook).\n",
            "*   **PaLM (Pathways Language Model):** Developed by Google.\n",
            "*   **BLOOM:** A multilingual LLM developed by a large collaboration.\n",
            "\n",
            "**Applications of LLMs:**\n",
            "\n",
            "*   **Chatbots and virtual assistants:**  Powering conversational AI systems.\n",
            "*   **Text generation:**  Creating content for websites, articles, marketing materials, etc.\n",
            "*   **Language translation:**  Automatically translating text between languages.\n",
            "*   **Summarization:**  Condensing long documents into shorter summaries.\n",
            "*   **Code generation:**  Writing computer code based on natural language descriptions.\n",
            "*   **Question answering:**  Answering questions based on knowledge extracted from text.\n",
            "*   **Sentiment analysis:**  Determining the emotional tone of text.\n",
            "*   **Creative writing:**  Generating poems, stories, scripts, etc.\n",
            "*   **Search engines:**  Improving the accuracy and relevance of search results.\n",
            "\n",
            "**Limitations and Challenges:**\n",
            "\n",
            "*   **Bias:** LLMs can inherit biases from the data they are trained on, leading to unfair or discriminatory outputs.\n",
            "*   **Hallucination:** LLMs can sometimes generate incorrect or nonsensical information (often referred to as \"hallucinations\" or \"fabrications\").\n",
            "*   **Lack of Real-World Understanding:** LLMs are trained on text data, so their understanding of the real world is limited. They may struggle with tasks that require common sense or physical reasoning.\n",
            "*   **Computational Cost:** Training and running LLMs require significant computational resources, making them expensive to develop and deploy.\n",
            "*   **Ethical Concerns:** The potential for LLMs to be used for malicious purposes (e.g., generating fake news or impersonating people) raises ethical concerns.\n",
            "*   **Explainability:** Understanding why LLMs make the decisions they do is often difficult, making it hard to debug and improve them.\n",
            "*   **Copyright Issues:**  Training on copyrighted material raises legal concerns.\n",
            "\n",
            "**In summary, Large Language Models are powerful AI tools with the ability to understand, generate, and manipulate human language. They are transforming a wide range of industries and applications, but it's crucial to be aware of their limitations and ethical implications.**\n",
            "\n"
          ]
        }
      ]
    },
    {
      "cell_type": "code",
      "source": [
        "from google import genai\n",
        "from google.genai import types\n",
        "client = genai.Client(api_key=GOOGLE_API_KEY)"
      ],
      "metadata": {
        "id": "317Y5Ijrnel-"
      },
      "execution_count": 11,
      "outputs": []
    },
    {
      "cell_type": "code",
      "source": [
        "MODEL_ID=\"models/gemini-2.0-flash\" # Changed MODEL_ID to the correct value. This should resolve the error\""
      ],
      "metadata": {
        "id": "IPPeye53mWqU"
      },
      "execution_count": 18,
      "outputs": []
    },
    {
      "cell_type": "code",
      "source": [
        "from IPython.display import Markdown\n",
        "response=client.models.generate_content(\n",
        "    model=MODEL_ID,\n",
        "    contents=\"What is the largest planet in our solar system?.\"\n",
        ")\n",
        "Markdown(response.text)"
      ],
      "metadata": {
        "colab": {
          "base_uri": "https://localhost:8080/",
          "height": 46
        },
        "id": "oJOjp2glmpyQ",
        "outputId": "2c4a8254-1f86-4d15-f320-21c649e981f9"
      },
      "execution_count": 19,
      "outputs": [
        {
          "output_type": "execute_result",
          "data": {
            "text/plain": [
              "<IPython.core.display.Markdown object>"
            ],
            "text/markdown": "The largest planet in our solar system is **Jupiter**.\n"
          },
          "metadata": {},
          "execution_count": 19
        }
      ]
    },
    {
      "cell_type": "code",
      "source": [
        "response=client.models.count_tokens(\n",
        "    model=MODEL_ID,\n",
        "    contents=\"What's the highest mountain in Africa?\",\n",
        ")\n",
        "print(response)"
      ],
      "metadata": {
        "colab": {
          "base_uri": "https://localhost:8080/"
        },
        "id": "ozSVmnlHnmvx",
        "outputId": "7b9bb399-0592-4b95-bf53-fb530a91c9ee"
      },
      "execution_count": 20,
      "outputs": [
        {
          "output_type": "stream",
          "name": "stdout",
          "text": [
            "total_tokens=10 cached_content_token_count=None\n"
          ]
        }
      ]
    },
    {
      "cell_type": "code",
      "source": [],
      "metadata": {
        "id": "6SN4uy4cokk-"
      },
      "execution_count": null,
      "outputs": []
    }
  ]
}