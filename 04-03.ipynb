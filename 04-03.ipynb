{
  "nbformat": 4,
  "nbformat_minor": 0,
  "metadata": {
    "colab": {
      "provenance": [],
      "authorship_tag": "ABX9TyNOrGkSowERg/efG5XYU46e",
      "include_colab_link": true
    },
    "kernelspec": {
      "name": "python3",
      "display_name": "Python 3"
    },
    "language_info": {
      "name": "python"
    }
  },
  "cells": [
    {
      "cell_type": "markdown",
      "metadata": {
        "id": "view-in-github",
        "colab_type": "text"
      },
      "source": [
        "<a href=\"https://colab.research.google.com/github/Chinni-Akanksha01/NLP/blob/main/04-03.ipynb\" target=\"_parent\"><img src=\"https://colab.research.google.com/assets/colab-badge.svg\" alt=\"Open In Colab\"/></a>"
      ]
    },
    {
      "cell_type": "code",
      "execution_count": 1,
      "metadata": {
        "id": "9RNxcg3lw2XR"
      },
      "outputs": [],
      "source": [
        "import nltk\n",
        "import re\n",
        "from nltk.chat.util import Chat,reflections"
      ]
    },
    {
      "cell_type": "code",
      "source": [
        "nltk.download('punkt')\n",
        "nltk.download('averaged_perceptron_tagger')"
      ],
      "metadata": {
        "colab": {
          "base_uri": "https://localhost:8080/"
        },
        "id": "bbjRadKhw38F",
        "outputId": "12bf90e5-77b0-4843-9b6f-b5ae75117e76"
      },
      "execution_count": 3,
      "outputs": [
        {
          "output_type": "stream",
          "name": "stderr",
          "text": [
            "[nltk_data] Downloading package punkt to /root/nltk_data...\n",
            "[nltk_data]   Unzipping tokenizers/punkt.zip.\n",
            "[nltk_data] Downloading package averaged_perceptron_tagger to\n",
            "[nltk_data]     /root/nltk_data...\n",
            "[nltk_data]   Unzipping taggers/averaged_perceptron_tagger.zip.\n"
          ]
        },
        {
          "output_type": "execute_result",
          "data": {
            "text/plain": [
              "True"
            ]
          },
          "metadata": {},
          "execution_count": 3
        }
      ]
    },
    {
      "cell_type": "code",
      "source": [
        "# Define patterns and responses\n",
        "pairs = [\n",
        "[r\"my name is ( .* )\", [\"Hello %1, how can I assist you today?\",]],\n",
        "[r\"hi|hey|hello\", [\"Hello, how can I help you?\", \"Hey there! What can I\n",
        "do for you?\",\n",
        "\n",
        "[r\"what is your name?\", [\"I am a chatbot created to assist you. You can\n",
        "call me Chatbot.\",]],\n",
        "[r\"how are you?\", [\"I'm a bot, so I don't have feelings, but I'm here to\n",
        "help you!\",]],\n",
        "[r\"can you help me with ( .* )\", [\"Sure, I can help you with %1. Please\n",
        "provide more details.\",]],\n",
        "[r\"sorry ( .* )\", [\"It's okay. How can I assist you?\",]],\n",
        "[r\"thank you|thanks\", [\"You're welcome!\", \"No problem!\", \"Happy to\n",
        "help!\"]],\n",
        "[r\"quit\", [\"Bye! Have a great day!\", \"Goodbye!\"]],\n",
        "[r\"( .* )\", [\"I'm sorry, I don't understand that. Can you rephrase?\",\n",
        "\"Could you please elaborate on that?\"]]\n",
        "\n",
        "\"Hi! How can I assist you today?\"]],\n",
        "]"
      ],
      "metadata": {
        "id": "2QXztxjdxDmK"
      },
      "execution_count": null,
      "outputs": []
    }
  ]
}